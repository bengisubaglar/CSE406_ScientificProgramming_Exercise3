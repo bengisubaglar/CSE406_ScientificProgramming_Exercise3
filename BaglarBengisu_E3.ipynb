{
 "cells": [
  {
   "cell_type": "markdown",
   "id": "68575723",
   "metadata": {},
   "source": [
    "7 File I/O\n",
    "\n",
    "Exercise 7.1: Open a file\n",
    "\n",
    "Write a function that opens a file (input: filename), and prints the file line by line"
   ]
  },
  {
   "cell_type": "code",
   "execution_count": 6,
   "id": "052b2cca",
   "metadata": {},
   "outputs": [
    {
     "name": "stdout",
     "output_type": "stream",
     "text": [
      "this is the first line\n",
      "this is the second line\n",
      "this is the third line\n",
      "this is the fifth line\n",
      ".\n",
      ".\n",
      ".\n",
      "\n"
     ]
    }
   ],
   "source": [
    "file_1 = open(\"ex3.txt\",\"r\")\n",
    "content = file_1.read()\n",
    "print(content)"
   ]
  },
  {
   "cell_type": "markdown",
   "id": "5a6a9ec8",
   "metadata": {},
   "source": [
    "Exercise 7.2: Wordcount\n",
    "\n",
    "On the course website you can find a text file containing the complete works of William Shapespeare."
   ]
  },
  {
   "cell_type": "markdown",
   "id": "f336a7b8",
   "metadata": {},
   "source": [
    "(a) Find the 20 most common words\n"
   ]
  },
  {
   "cell_type": "code",
   "execution_count": 15,
   "id": "94337fcc",
   "metadata": {},
   "outputs": [
    {
     "name": "stdout",
     "output_type": "stream",
     "text": [
      "[('the', 23407), ('I', 19540), ('and', 18358), ('to', 15682), ('of', 15649), ('a', 12586), ('my', 10825), ('in', 9633), ('you', 9129), ('is', 7874), ('that', 7543), ('And', 7068), ('not', 6967), ('with', 6771), ('his', 6218), ('be', 6017), ('your', 6016), ('for', 5629), ('have', 5236), ('it', 4920)]\n"
     ]
    }
   ],
   "source": [
    "from collections import Counter\n",
    "file_2 = open(\"Shakespeare.txt\",\"r\")\n",
    "words = []\n",
    "with file_2 as f :\n",
    "    for line in f :\n",
    "        words.extend(line.split())\n",
    "\n",
    "counts = Counter(words)\n",
    "top_20= counts.most_common(20)\n",
    "print(top_20)\n",
    "file_3.close()        "
   ]
  },
  {
   "cell_type": "markdown",
   "id": "b6bf3c5f",
   "metadata": {},
   "source": [
    "(b) How many unique words are used?\n"
   ]
  },
  {
   "cell_type": "code",
   "execution_count": 16,
   "id": "34829945",
   "metadata": {},
   "outputs": [
    {
     "name": "stdout",
     "output_type": "stream",
     "text": [
      "67779\n"
     ]
    }
   ],
   "source": [
    "file_3 = open(\"Shakespeare.txt\",\"r\")\n",
    "count = 0\n",
    "all_data = file_3.read()\n",
    "words = set(all_data.split())\n",
    "for word in words :\n",
    "    count += 1\n",
    "print(count)\n",
    "file_3.close()"
   ]
  },
  {
   "cell_type": "markdown",
   "id": "7d3529fa",
   "metadata": {},
   "source": [
    "(c) How many words are used at least 5 times?"
   ]
  },
  {
   "cell_type": "code",
   "execution_count": 17,
   "id": "01a7dcb7",
   "metadata": {},
   "outputs": [
    {
     "name": "stdout",
     "output_type": "stream",
     "text": [
      "821797\n"
     ]
    }
   ],
   "source": [
    "import collections\n",
    "file_3 = open(\"Shakespeare.txt\",\"r\")\n",
    "words = []\n",
    "\n",
    "with file_3 as f :\n",
    "    for line in f :\n",
    "        words.extend(line.split())\n",
    "counts = collections.Counter(words)\n",
    "\n",
    "print(sum(i[1] for i in counts.items() if i[1] >= 5))\n",
    "file_3.close()"
   ]
  },
  {
   "cell_type": "markdown",
   "id": "30db9578",
   "metadata": {},
   "source": [
    "(d) Write the 200 most common words, and their counts, to a file."
   ]
  },
  {
   "cell_type": "code",
   "execution_count": 22,
   "id": "5b319a6d",
   "metadata": {},
   "outputs": [],
   "source": [
    "file_5= open(\"Shakespeare.txt\",\"r\")\n",
    "words1 = []\n",
    "with file_5 as f :\n",
    "    for line1 in f :\n",
    "        words1.extend(line1.split())\n",
    "from collections import Counter\n",
    "counts1 = Counter(words1)\n",
    "top_200= counts1.most_common(200)\n",
    "file_5.close()\n",
    "\n",
    "file_6= open(\"file.txt\",\"w\")\n",
    "file_6.write(str(top_200))\n",
    "file_6.close()"
   ]
  },
  {
   "cell_type": "markdown",
   "id": "6b572db2",
   "metadata": {},
   "source": [
    "Exercise 7.3: Random text generator II"
   ]
  },
  {
   "cell_type": "markdown",
   "id": "5d755d65",
   "metadata": {},
   "source": [
    "Exercise 7.4: Sum of lists"
   ]
  },
  {
   "cell_type": "markdown",
   "id": "a0819ada",
   "metadata": {},
   "source": [
    "(a) Data generation\n",
    "Write a function that takes three integers, n, a and b and a filename and writes to the file a list\n",
    "with n random integers between a and b."
   ]
  },
  {
   "cell_type": "code",
   "execution_count": 159,
   "id": "39e2ecb2",
   "metadata": {},
   "outputs": [],
   "source": [
    "import random\n",
    "def write_randoms(n,a,b,filename):\n",
    "    file_1 = open(filename, \"w\")\n",
    "    for i in range(n):\n",
    "        number = random.randint(a,b)\n",
    "        file_1.write(str(number) + \"\\n\") \n",
    "    file_1.close()  \n"
   ]
  },
  {
   "cell_type": "markdown",
   "id": "1264c64b",
   "metadata": {},
   "source": [
    "(b) Reading the data\n",
    "\n",
    "Write a function that can read the files as generated above and return the values.\n"
   ]
  },
  {
   "cell_type": "code",
   "execution_count": 164,
   "id": "9fb5f3d7",
   "metadata": {},
   "outputs": [],
   "source": [
    "def read_randoms(filename):\n",
    "    file_1 = open(filename,\"r\")\n",
    "    values = []\n",
    "    for line in file_1:\n",
    "        values.append(int(line))              \n",
    "    return values              "
   ]
  },
  {
   "cell_type": "markdown",
   "id": "c59839b3",
   "metadata": {},
   "source": [
    "(c) Sum problem\n",
    "\n",
    "Write a function that given two filenames (pointing to files as generated by the above function) and\n",
    "an integer k, finds all u and v such that u + v = k, and u is an element of the first list and v is a\n",
    "member of the second list."
   ]
  },
  {
   "cell_type": "code",
   "execution_count": 168,
   "id": "8f9d92ab",
   "metadata": {},
   "outputs": [
    {
     "name": "stdout",
     "output_type": "stream",
     "text": [
      "[301, 362, 301, 362, 93, 435, 67, 157, 367, 357, 196, 392, 392, 83, 83, 412, 150, 435, 173, 270, 266]\n",
      "[199, 138, 199, 138, 407, 65, 433, 343, 133, 143, 304, 108, 108, 417, 417, 88, 350, 65, 327, 230, 234]\n"
     ]
    }
   ],
   "source": [
    "def sum(filename,filename1,k):\n",
    "    items_1 = read_randoms(filename)\n",
    "    items_2 = read_randoms(filename1)\n",
    "    u = []\n",
    "    v = []\n",
    "    for i in items_1:\n",
    "        for j in items_2:\n",
    "            if i + j == k:\n",
    "                u.append(i)\n",
    "                v.append(j)\n",
    "    print(u)\n",
    "    print(v)\n"
   ]
  },
  {
   "cell_type": "markdown",
   "id": "fe00f11e",
   "metadata": {},
   "source": [
    "(d) Testing\n",
    "\n",
    "Test your functions by generating 2 files with n = 2000, a = 1, b = 10000 and k = 5000 and\n",
    "k = 12000."
   ]
  },
  {
   "cell_type": "code",
   "execution_count": 170,
   "id": "b6838f36",
   "metadata": {},
   "outputs": [
    {
     "name": "stdout",
     "output_type": "stream",
     "text": [
      "[325, 465, 466, 205, 186, 186, 129, 383, 439, 434, 193, 77, 25, 158, 325, 24, 323, 319, 319, 221, 30]\n",
      "[175, 35, 34, 295, 314, 314, 371, 117, 61, 66, 307, 423, 475, 342, 175, 476, 177, 181, 181, 279, 470]\n"
     ]
    }
   ],
   "source": [
    "write_randoms(2000,1,10000,\"file.txt\")\n",
    "write_randoms(2000,1,10000,\"file2.txt\")\n",
    "sum(\"file.txt\",\"file2.txt\",500)"
   ]
  },
  {
   "cell_type": "markdown",
   "id": "db347a2a",
   "metadata": {},
   "source": [
    "8 Classes\n",
    "\n",
    "Exercise 8.1: Rational numbers"
   ]
  },
  {
   "cell_type": "markdown",
   "id": "2971ad46",
   "metadata": {},
   "source": [
    "(a) Create a class Rational which is initialized by two integers, p and q, the nominator and denominator"
   ]
  },
  {
   "cell_type": "code",
   "execution_count": 172,
   "id": "3152ca6c",
   "metadata": {},
   "outputs": [],
   "source": [
    "class Rational :\n",
    "    def __init__(self,p,q):\n",
    "        self.p = p\n",
    "        self.q = q"
   ]
  },
  {
   "cell_type": "markdown",
   "id": "ae5ec0a1",
   "metadata": {},
   "source": [
    "(b) Add a method to print the rational number as p/q (the __str__ or __repr__ method is useful)."
   ]
  },
  {
   "cell_type": "code",
   "execution_count": 179,
   "id": "fdf865ed",
   "metadata": {},
   "outputs": [],
   "source": [
    "class Rational :\n",
    "    def __init__(self,p,q):\n",
    "        self.p = p\n",
    "        self.q = q\n",
    "    def __str__(self) :\n",
    "        return  f' {self.p} / {self.q}'\n"
   ]
  },
  {
   "cell_type": "code",
   "execution_count": 180,
   "id": "f0ec0bda",
   "metadata": {},
   "outputs": [
    {
     "data": {
      "text/plain": [
       "' 4 / 3'"
      ]
     },
     "execution_count": 180,
     "metadata": {},
     "output_type": "execute_result"
    }
   ],
   "source": [
    "a = Rational(4,3)\n",
    "a.__str__()"
   ]
  },
  {
   "cell_type": "markdown",
   "id": "9e9647d2",
   "metadata": {},
   "source": [
    "(c) "
   ]
  },
  {
   "cell_type": "code",
   "execution_count": 49,
   "id": "bc52850d",
   "metadata": {},
   "outputs": [
    {
     "data": {
      "text/plain": [
       "' 4.0 / 1.0'"
      ]
     },
     "execution_count": 49,
     "metadata": {},
     "output_type": "execute_result"
    }
   ],
   "source": [
    "import math\n",
    "class Rational :\n",
    "    def __init__(self,p,q):\n",
    "        gcd = self.compute_gcd(p,q)\n",
    "        self.p = p / gcd\n",
    "        self.q = q / gcd\n",
    "        \n",
    "    def __str__(self) :\n",
    "        return  f' {self.p} / {self.q}'\n",
    "    \n",
    "    def compute_gcd(self,a,b) :\n",
    "        return math.gcd(a,b)\n",
    "    \n",
    "a = Rational(12,3)\n",
    "a.__str__()"
   ]
  },
  {
   "cell_type": "markdown",
   "id": "f2e5cef4",
   "metadata": {},
   "source": [
    "(d) Add a method so that we can add two rational numbers with r1 + r2, here the __add__() method\n",
    "is useful"
   ]
  },
  {
   "cell_type": "code",
   "execution_count": 61,
   "id": "25008f22",
   "metadata": {},
   "outputs": [
    {
     "name": "stdout",
     "output_type": "stream",
     "text": [
      " 6.0 / 1.0\n"
     ]
    }
   ],
   "source": [
    "import math\n",
    "class Rational :\n",
    "    def __init__(self,p,q):\n",
    "        gcd = self.compute_gcd(p,q)\n",
    "        self.p = p / gcd\n",
    "        self.q = q / gcd\n",
    "        \n",
    "    def __str__(self) :\n",
    "        return  f' {self.p} / {self.q}'\n",
    "    \n",
    "    def compute_gcd(self,p,q) :\n",
    "        a = math.gcd(int(p),int(q))\n",
    "        return a\n",
    "    \n",
    "    def __add__(self,other) :\n",
    "        \n",
    "        if (self.q == other.q) :\n",
    "            return Rational(self.p + other.p , self.q)\n",
    "        else :\n",
    "            a = math.lcm(int(self.q),int(other.q))\n",
    "                         \n",
    "            self.p = self.p  * a/self.q\n",
    "            self.q = a\n",
    "            other.p = other.p *  a/other.q\n",
    "            other.q = a\n",
    "            return Rational(self.p  + other.p, a)\n",
    "        \n",
    "    \n",
    "a = Rational(14,3)\n",
    "b = Rational(4,3)\n",
    "total  = a.__add__(b)\n",
    "print(total)"
   ]
  },
  {
   "cell_type": "markdown",
   "id": "4bacdb06",
   "metadata": {},
   "source": [
    "(e) Add a method to subtract two rational numbers. (__sub__)\n"
   ]
  },
  {
   "cell_type": "code",
   "execution_count": 57,
   "id": "7a6f82a2",
   "metadata": {},
   "outputs": [
    {
     "name": "stdout",
     "output_type": "stream",
     "text": [
      " 2.0 / 1.0\n"
     ]
    }
   ],
   "source": [
    "import math\n",
    "class Rational :\n",
    "    def __init__(self,p,q):\n",
    "        gcd = self.compute_gcd(p,q)\n",
    "        self.p = p / gcd\n",
    "        self.q = q / gcd\n",
    "        \n",
    "    def __str__(self) :\n",
    "        return  f' {self.p} / {self.q}'\n",
    "    \n",
    "    def compute_gcd(self,p,q) :\n",
    "        a = math.gcd(int(p),int(q))\n",
    "        return a\n",
    "    \n",
    "    def __sub__(self,other) :\n",
    "        \n",
    "        if (self.q == other.q) :\n",
    "            return Rational(self.p - other.p , self.q)\n",
    "        else :\n",
    "            a = math.lcm(int(self.q),int(other.q))\n",
    "                         \n",
    "            self.p = self.p  * a/self.q\n",
    "            self.q = a\n",
    "            other.p = other.p *  a/other.q\n",
    "            other.q = a\n",
    "            return Rational(self.p  - other.p, a )\n",
    "        \n",
    "    \n",
    "a = Rational(12,3)\n",
    "b = Rational(4,2)\n",
    "sub  = a.__sub__(b)\n",
    "print(sub)"
   ]
  },
  {
   "cell_type": "markdown",
   "id": "b3f0ae4b",
   "metadata": {},
   "source": [
    "(f) Add a method to multiply two rational numbers. (__mul__)\n"
   ]
  },
  {
   "cell_type": "code",
   "execution_count": 62,
   "id": "16730deb",
   "metadata": {},
   "outputs": [
    {
     "name": "stdout",
     "output_type": "stream",
     "text": [
      " 8.0 / 1.0\n"
     ]
    }
   ],
   "source": [
    "import math\n",
    "class Rational :\n",
    "    def __init__(self,p,q):\n",
    "        gcd = self.compute_gcd(p,q)\n",
    "        self.p = p / gcd\n",
    "        self.q = q / gcd\n",
    "        \n",
    "    def __str__(self) :\n",
    "        return  f' {self.p} / {self.q}'\n",
    "    \n",
    "    def compute_gcd(self,p,q) :\n",
    "        a = math.gcd(int(p),int(q))\n",
    "        return a\n",
    "    \n",
    "    def __mul__(self,other) :\n",
    "        return Rational (self.p * other.p , self.q * other.q)\n",
    "    \n",
    "a = Rational(12,3)\n",
    "b = Rational(4,2)\n",
    "mul  = a.__mul__(b)\n",
    "print(mul)"
   ]
  },
  {
   "cell_type": "markdown",
   "id": "7d291524",
   "metadata": {},
   "source": [
    "(g) Add a method to divide two rational numbers. (__div__)\n"
   ]
  },
  {
   "cell_type": "code",
   "execution_count": 64,
   "id": "7446308d",
   "metadata": {},
   "outputs": [
    {
     "name": "stdout",
     "output_type": "stream",
     "text": [
      " 6.0 / 7.0\n"
     ]
    }
   ],
   "source": [
    "import math\n",
    "class Rational :\n",
    "    def __init__(self,p,q):\n",
    "        gcd = self.compute_gcd(p,q)\n",
    "        self.p = p / gcd\n",
    "        self.q = q / gcd\n",
    "        \n",
    "    def __str__(self) :\n",
    "        return  f' {self.p} / {self.q}'\n",
    "    \n",
    "    def compute_gcd(self,p,q) :\n",
    "        a = math.gcd(int(p),int(q))\n",
    "        return a\n",
    "    \n",
    "    def __div__(self,other) :\n",
    "        return Rational (self.p / other.p , self.q / other.q)\n",
    "    \n",
    "a = Rational(12,7)\n",
    "b = Rational(4,2)\n",
    "div  = a.__div__(b)\n",
    "print(div)"
   ]
  },
  {
   "cell_type": "markdown",
   "id": "a781fab0",
   "metadata": {},
   "source": [
    "(h) Add a method that compares whether two rational numbers are equal."
   ]
  },
  {
   "cell_type": "code",
   "execution_count": 67,
   "id": "af15f825",
   "metadata": {},
   "outputs": [
    {
     "name": "stdout",
     "output_type": "stream",
     "text": [
      "True\n"
     ]
    }
   ],
   "source": [
    "import math\n",
    "class Rational :\n",
    "    def __init__(self,p,q):\n",
    "        gcd = self.compute_gcd(p,q)\n",
    "        self.p = p / gcd\n",
    "        self.q = q / gcd\n",
    "        \n",
    "    def __str__(self) :\n",
    "        return  f' {self.p} / {self.q}'\n",
    "    \n",
    "    def compute_gcd(self,p,q) :\n",
    "        a = math.gcd(int(p),int(q))\n",
    "        return a\n",
    "    def is_equal(self,other) :\n",
    "        if self.p == other.p :\n",
    "            if self.q == other.q :\n",
    "                return True\n",
    "            else :\n",
    "                return False\n",
    "        else :\n",
    "            return False\n",
    "        \n",
    "a = Rational(12,6)\n",
    "b = Rational(4,2)\n",
    "is_eq = a.is_equal(b)\n",
    "print(is_eq)"
   ]
  },
  {
   "cell_type": "markdown",
   "id": "a46595e4",
   "metadata": {},
   "source": [
    "(i) Add a method to convert the rational number to a floating point "
   ]
  },
  {
   "cell_type": "code",
   "execution_count": 27,
   "id": "64c93ade",
   "metadata": {},
   "outputs": [
    {
     "name": "stdout",
     "output_type": "stream",
     "text": [
      "1.7142857142857142\n"
     ]
    }
   ],
   "source": [
    "import math\n",
    "class Rational :\n",
    "    def __init__(self,p,q):\n",
    "        gcd = self.compute_gcd(p,q)\n",
    "        self.p = p / gcd\n",
    "        self.q = q / gcd\n",
    "        \n",
    "    def __str__(self) :\n",
    "        return  f' {self.p} / {self.q}'\n",
    "    \n",
    "    def compute_gcd(self,p,q) :\n",
    "        a = math.gcd(int(p),int(q))\n",
    "        return a\n",
    "    def __float__(self,num) :\n",
    "        a = float(num.p / num.q)\n",
    "        return a\n",
    "        \n",
    "a = Rational(12,7)\n",
    "b = a.__float__(a)\n",
    "print(b)"
   ]
  },
  {
   "cell_type": "markdown",
   "id": "a4738dd5",
   "metadata": {},
   "source": [
    "Exercise 8.2: Rock Paper Scissors"
   ]
  },
  {
   "cell_type": "markdown",
   "id": "61ed0c43",
   "metadata": {},
   "source": [
    "Finish the implementation of game.py by implementing the compare function, updating the scores\n",
    "(where a win is 1 point, and a tie or loss 0 points), and finally the summary function that gives\n",
    "some information after the game.\n"
   ]
  },
  {
   "cell_type": "code",
   "execution_count": 26,
   "id": "ec4e3fdc",
   "metadata": {},
   "outputs": [],
   "source": [
    "def summary(self):\n",
    "        # print some summary of the games\n",
    "        print ('='*20)\n",
    "        if self.score_a1 > self.score_a2:\n",
    "            print ('Player 1 wins')\n",
    "        elif self.score_a1 < self.score_a2:\n",
    "            print ('Player 2 wins')\n",
    "        else:\n",
    "            print ('The game ends in a tie')\n",
    "\n",
    "        print ('Final score: {} - {}'.format(self.score_a1, self.score_a2))\n",
    "\n",
    "        # To implement: find the move that was played most often\n",
    "\n",
    "        # YOUR CODE HERE\n",
    "\n",
    "        moves_total = list(zip(moves_a1,moves_a2))\n",
    "\n",
    "        count = Counter(moves_total)\n",
    "        print(count.most_common())\n",
    "\n",
    "        print ('Most played move: {}'.format(0))\n",
    "        print ('='*20)\n",
    "        \n",
    "def compare(self, move1, move2):\n",
    "        # returns 1 if move1 wins, 0 if it's a tie, and -1 if move2 wins\n",
    "\n",
    "        # YOUR CODE HERE\n",
    "        if move1 == move2 :\n",
    "            return 0\n",
    "        elif move1 == \"rock\" :\n",
    "            if move2 == \"scissors\" :\n",
    "                return 1\n",
    "            else :\n",
    "                return -1\n",
    "        elif move1 == \"scissors\" :\n",
    "            if move2 == \"paper\" :\n",
    "                return 1\n",
    "            else :\n",
    "                return -1\n",
    "        elif move1 == \"paper\" :\n",
    "            if move2 == \"rock\" :\n",
    "                return 1\n",
    "            else :\n",
    "                return -1\n",
    "        "
   ]
  },
  {
   "cell_type": "markdown",
   "id": "5b163929",
   "metadata": {},
   "source": [
    "(b) Implement the HumanAgent in agent.py, this agent should query the user for the next move, and\n",
    "ensure that the user gives valid input."
   ]
  },
  {
   "cell_type": "code",
   "execution_count": null,
   "id": "47058028",
   "metadata": {},
   "outputs": [],
   "source": []
  },
  {
   "cell_type": "markdown",
   "id": "a6583a94",
   "metadata": {},
   "source": [
    "Exercise 8.3: Hangman agent"
   ]
  },
  {
   "cell_type": "markdown",
   "id": "2a4ce7da",
   "metadata": {},
   "source": [
    "Exercise 8.4: Sparse and dense vectors"
   ]
  },
  {
   "cell_type": "markdown",
   "id": "bc4d7582",
   "metadata": {},
   "source": [
    "Exercise 8.5: Implementing the set class"
   ]
  },
  {
   "cell_type": "markdown",
   "id": "4063cdd5",
   "metadata": {},
   "source": [
    "Write a class mySet that has the same basic functionality as the Python set data structure. Base your\n",
    "implementation on a dictionary.\n"
   ]
  },
  {
   "cell_type": "code",
   "execution_count": 6,
   "id": "9cc4bc91",
   "metadata": {},
   "outputs": [
    {
     "name": "stdout",
     "output_type": "stream",
     "text": [
      "{1: 1, 2: 2, 3: 3}\n",
      "{2: 2, 1: 1}\n",
      "[3]\n",
      "[2, 1, 2, 1]\n"
     ]
    }
   ],
   "source": [
    "class mySet:\n",
    "    \n",
    "    def __init__(self,dict_1):\n",
    "        self.dict_1 = dict_1\n",
    "    \n",
    "    def add(self,item) :\n",
    "        self.dict_1[item] = item\n",
    "    \n",
    "    def remove(self,item) :\n",
    "        self.dict_1.pop(item)\n",
    "        \n",
    "    def pop(self) :\n",
    "        return self.dict_1.popitem()\n",
    "    \n",
    "    def clear(self):\n",
    "        self.dict_1.clear()\n",
    "    \n",
    "    def copy(self) :\n",
    "        self.dict_1.copy()\n",
    "    \n",
    "    def difference(self,other) :\n",
    "        res = [i for i in self.dict_1 if i not in other.dict_1] \\\n",
    "          + [j for j in self.dict_1 if j not in self.dict_1]\n",
    "        return str(res)\n",
    "\n",
    "    def discard(self,item) :\n",
    "        self.dict_1.pop(item)\n",
    "    \n",
    "    def intersection(self,other) : \n",
    "        res = [i for i in self.dict_1 if i in other.dict_1] \\\n",
    "          + [j for j in self.dict_1 if j in self.dict_1]\n",
    "        return str(res)\n",
    "    \n",
    "    def union(self,other) :\n",
    "        res = self.intersection(other)\n",
    "        return str(res)\n",
    "        \n",
    "    \n",
    "    def update(self,other) :\n",
    "        self.dict_1.update(other)\n",
    "        \n",
    "    def pop(self) :\n",
    "        return self.dict_1.popitem()\n",
    "    \n",
    "    \n",
    "    \n",
    "    \n",
    "        \n",
    "mydict = mySet({})\n",
    "mydict.add(1)\n",
    "mydict.add(2)\n",
    "mydict.add(3)\n",
    "print(mydict.dict_1)\n",
    "dict_2 = mySet({})\n",
    "dict_2.add(2)\n",
    "dict_2.add(1)\n",
    "print(dict_2.dict_1)\n",
    "print(mydict.difference(dict_2))\n",
    "dict_2.intersection(mydict)\n",
    "print(dict_2.union(mydict))\n"
   ]
  },
  {
   "cell_type": "markdown",
   "id": "63dfd5b6",
   "metadata": {},
   "source": [
    "Exercise 8.6: Binary search tree\n"
   ]
  },
  {
   "cell_type": "markdown",
   "id": "a4544bf0",
   "metadata": {},
   "source": [
    "(a) Define a class Node, and write the constructor, which takes one argument, value, and initializes\n",
    "the left and right children to None."
   ]
  },
  {
   "cell_type": "code",
   "execution_count": 7,
   "id": "53848592",
   "metadata": {},
   "outputs": [],
   "source": [
    "class Node :\n",
    "    \n",
    "    def __init__(self,value) :\n",
    "        self.left = None\n",
    "        self.right = None\n",
    "        self.node = value\n",
    "        \n"
   ]
  },
  {
   "cell_type": "markdown",
   "id": "e7469b11",
   "metadata": {},
   "source": [
    "(b) Write a function to print the tree."
   ]
  },
  {
   "cell_type": "code",
   "execution_count": 8,
   "id": "412f8d9e",
   "metadata": {},
   "outputs": [],
   "source": [
    "class Node :\n",
    "    def __init__(self,value) :\n",
    "        self.left = None\n",
    "        self.right = None\n",
    "        self.node = value\n",
    "        \n",
    "    def print_tree(self) :\n",
    "        if self.left  :\n",
    "            self.left.print_tree()\n",
    "        print(self.value, end=' ')\n",
    "        if self.right :\n",
    "            self.right.print.tree()"
   ]
  },
  {
   "cell_type": "markdown",
   "id": "ea77d956",
   "metadata": {},
   "source": [
    "(c) Write a function that inserts a new value in the tree at the right location"
   ]
  },
  {
   "cell_type": "code",
   "execution_count": 24,
   "id": "fbbe31f8",
   "metadata": {},
   "outputs": [
    {
     "name": "stdout",
     "output_type": "stream",
     "text": [
      "2 5 6 20 "
     ]
    }
   ],
   "source": [
    "class Node :\n",
    "    def __init__(self,value) :\n",
    "        self.left = None\n",
    "        self.right = None\n",
    "        self.node = value\n",
    "    \n",
    "    def add_node(self,value) :\n",
    "        if self.node:\n",
    "            if value < self.node:\n",
    "                if self.left is None:\n",
    "                    self.left = Node(value)\n",
    "                else:\n",
    "                    self.left.add_node(value)\n",
    "            elif value > self.node:\n",
    "                if self.right is None:\n",
    "                    self.right = Node(value)\n",
    "                else:\n",
    "                    self.right.add_node(value)\n",
    "        else:\n",
    "            self.node = value\n",
    "    \n",
    "    def print_tree(self) :\n",
    "        if self.left  :\n",
    "            self.left.print_tree()\n",
    "        print(self.node, end=' ')\n",
    "        if self.right :\n",
    "            self.right.print_tree()\n",
    "            \n",
    "root = Node(5)\n",
    "root.add_node(5)\n",
    "root.add_node(6)\n",
    "root.add_node(2)\n",
    "root.add_node(20)\n",
    "root.print_tree()  "
   ]
  },
  {
   "cell_type": "markdown",
   "id": "a7045bae",
   "metadata": {},
   "source": [
    "(d) Write a function that looks up a value in the tree."
   ]
  },
  {
   "cell_type": "code",
   "execution_count": 32,
   "id": "7d76eae4",
   "metadata": {},
   "outputs": [
    {
     "name": "stdout",
     "output_type": "stream",
     "text": [
      "20 found. \n"
     ]
    }
   ],
   "source": [
    "class Node :\n",
    "    def __init__(self,value) :\n",
    "        self.left = None\n",
    "        self.right = None\n",
    "        self.node = value\n",
    "    \n",
    "    def add_node(self,value) :\n",
    "        if self.node:\n",
    "            if value < self.node:\n",
    "                if self.left is None:\n",
    "                    self.left = Node(value)\n",
    "                else:\n",
    "                    self.left.add_node(value)\n",
    "            elif value > self.node:\n",
    "                if self.right is None:\n",
    "                    self.right = Node(value)\n",
    "                else:\n",
    "                    self.right.add_node(value)\n",
    "        else:\n",
    "            self.node = value\n",
    "    \n",
    "    def print_tree(self) :\n",
    "        if self.left  :\n",
    "            self.left.print_tree()\n",
    "        print(self.node, end=' ')\n",
    "        if self.right :\n",
    "            self.right.print_tree()\n",
    "            \n",
    "    def search_tree(self,val) :\n",
    "        if val < self.node :\n",
    "            if self.left is None : \n",
    "                return str(val) + \"not found\"\n",
    "            return self.left.search_tree(val)\n",
    "        elif val > self.node :\n",
    "            if self.right is None :\n",
    "                return str(val) + \" not found\"\n",
    "            return self.right.search_tree(val)\n",
    "        else :\n",
    "            print(str(self.node) + \" found. \")\n",
    "            \n",
    "root = Node(5)\n",
    "root.add_node(5)\n",
    "root.add_node(6)\n",
    "root.add_node(2)\n",
    "root.add_node(20)\n",
    "root.search_tree(7)\n",
    "root.search_tree(20)"
   ]
  },
  {
   "cell_type": "markdown",
   "id": "c239932b",
   "metadata": {},
   "source": [
    "(e) Write a function that removes a value from the tree."
   ]
  },
  {
   "cell_type": "code",
   "execution_count": 21,
   "id": "6c48f8f6",
   "metadata": {},
   "outputs": [
    {
     "name": "stdout",
     "output_type": "stream",
     "text": [
      "2 5 6 20 \n",
      "2 5 20 "
     ]
    }
   ],
   "source": [
    "class Node :\n",
    "    def __init__(self,value) :\n",
    "        self.left = None\n",
    "        self.right = None\n",
    "        self.node = value\n",
    "    \n",
    "    def add_node(self,value) :\n",
    "        if self.node:\n",
    "            if value < self.node:\n",
    "                if self.left is None:\n",
    "                    self.left = Node(value)\n",
    "                else:\n",
    "                    self.left.add_node(value)\n",
    "            elif value > self.node:\n",
    "                if self.right is None:\n",
    "                    self.right = Node(value)\n",
    "                else:\n",
    "                    self.right.add_node(value)\n",
    "        else:\n",
    "            self.node = value\n",
    "    \n",
    "    def print_tree(self) :\n",
    "        if self.left  :\n",
    "            self.left.print_tree()\n",
    "        print(self.node, end=' ')\n",
    "        if self.right :\n",
    "            self.right.print_tree()\n",
    "            \n",
    "    def search_tree(self,val) :\n",
    "        if val < self.node :\n",
    "            if self.left is None : \n",
    "                return str(val) + \"not found\"\n",
    "            return self.left.search_tree(val)\n",
    "        elif val > self.node :\n",
    "            if self.right is None :\n",
    "                return str(val) + \" not found\"\n",
    "            return self.right.search_tree(val)\n",
    "        else :\n",
    "            print(str(self.node) + \" found. \")\n",
    "            return self.node\n",
    "    \n",
    "    def find_successor(self, current_node):\n",
    "        while current_node.left is not None:\n",
    "            current_node = current_node.left\n",
    "        return current_node\n",
    "    \n",
    "    def remove(self, current_node, value) :\n",
    "        if current_node == None:\n",
    "            return current_node\n",
    "        if value == current_node.node :\n",
    "            \n",
    "            if current_node.left == None :\n",
    "                current_node = current_node.right\n",
    "            elif current_node.right == None :\n",
    "                current_node = current_node.left\n",
    "            else:\n",
    "                current_node = findsuccessor(current_node)\n",
    "                current_node.right = remove(current_node.right, current_node.node)\n",
    "        elif value < current_node.node :\n",
    "            current_node.left = self.remove(current_node.left, value)\n",
    "        else :\n",
    "            current_node.right = self.remove(current_node.right, value)\n",
    "        return current_node \n",
    "            \n",
    "            \n",
    "root = Node(5)\n",
    "root.add_node(5)\n",
    "root.add_node(6)\n",
    "root.add_node(2)\n",
    "root.add_node(20)\n",
    "root.print_tree()\n",
    "root = root.remove(root,6)\n",
    "print()\n",
    "root.print_tree()"
   ]
  },
  {
   "cell_type": "markdown",
   "id": "5d180ea0",
   "metadata": {},
   "source": [
    "Exercise 8.7: Ordinary least squares\n"
   ]
  },
  {
   "cell_type": "markdown",
   "id": "feb1feb2",
   "metadata": {},
   "source": [
    "(a) Setup an OLS class with fit and predict methods, to be coded later"
   ]
  },
  {
   "cell_type": "code",
   "execution_count": 24,
   "id": "8622c344",
   "metadata": {},
   "outputs": [],
   "source": [
    "class OLS :\n",
    "    def fit(self) :\n",
    "        return\n",
    "    def predict(self) :\n",
    "        return"
   ]
  },
  {
   "cell_type": "markdown",
   "id": "0000debf",
   "metadata": {},
   "source": [
    "(b) Write the fit method using numpy’s or scipy’s linear algebra module."
   ]
  },
  {
   "cell_type": "code",
   "execution_count": null,
   "id": "da090cb1",
   "metadata": {},
   "outputs": [],
   "source": [
    "import numpy as np\n",
    "from numpy import linalg as alg\n",
    "    def fit(self) :\n",
    "        return"
   ]
  }
 ],
 "metadata": {
  "kernelspec": {
   "display_name": "Python 3 (ipykernel)",
   "language": "python",
   "name": "python3"
  },
  "language_info": {
   "codemirror_mode": {
    "name": "ipython",
    "version": 3
   },
   "file_extension": ".py",
   "mimetype": "text/x-python",
   "name": "python",
   "nbconvert_exporter": "python",
   "pygments_lexer": "ipython3",
   "version": "3.9.7"
  }
 },
 "nbformat": 4,
 "nbformat_minor": 5
}
